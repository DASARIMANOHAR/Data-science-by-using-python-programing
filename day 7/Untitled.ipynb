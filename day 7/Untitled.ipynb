{
 "cells": [
  {
   "cell_type": "markdown",
   "id": "de64bbe2",
   "metadata": {},
   "source": [
    "conditional statements and loops in python\n",
    "\n",
    "- conditions \n",
    "    -if\n",
    "    -if-esle\n",
    "    -if-elsif-else\n",
    "-loops in python\n",
    "    -for\n",
    "    -while\n",
    "-stings\n",
    "    * declaring a string\n",
    "    * accesing a elements from a string\n",
    "    * string methods\n",
    "    "
   ]
  },
  {
   "cell_type": "markdown",
   "id": "84a94de9",
   "metadata": {},
   "source": [
    "syntax\n",
    "*if condition:\n",
    "    block of code\n",
    "else:\n",
    "    block of code"
   ]
  },
  {
   "cell_type": "markdown",
   "id": "148a83cf",
   "metadata": {},
   "source": [
    "*if condition:\n",
    "    block of code\n",
    "*elseif:\n",
    "    block of code\n",
    "*else:\n",
    "    block of code\n",
    "    "
   ]
  },
  {
   "cell_type": "markdown",
   "id": "4f62eaf3",
   "metadata": {},
   "source": [
    "to find biggest of two numbers\n"
   ]
  },
  {
   "cell_type": "code",
   "execution_count": 2,
   "id": "0c531fc3",
   "metadata": {},
   "outputs": [
    {
     "name": "stdout",
     "output_type": "stream",
     "text": [
      "6 b is greater\n"
     ]
    }
   ],
   "source": [
    "a=3\n",
    "b=6\n",
    "if a>b:\n",
    "    print(a,\"a is greater\")\n",
    "else:\n",
    "    print(b,\"b is greater\")\n",
    "    "
   ]
  },
  {
   "cell_type": "markdown",
   "id": "7c4d382b",
   "metadata": {},
   "source": [
    "a=4\n",
    "b=7\n",
    "c=9\n",
    "if a>b and a>c:\n",
    "    print(a,\"is greater\")\n",
    "elif b>c:\n",
    "    print(b,\"is greater\")\n",
    "else:\n",
    "    print(c,\"is greater\")"
   ]
  },
  {
   "cell_type": "markdown",
   "id": "124750e1",
   "metadata": {},
   "source": [
    "check the number is even or not"
   ]
  },
  {
   "cell_type": "code",
   "execution_count": 7,
   "id": "90d5ea0a",
   "metadata": {},
   "outputs": [
    {
     "name": "stdout",
     "output_type": "stream",
     "text": [
      "34\n",
      "34 is even\n"
     ]
    }
   ],
   "source": [
    "n=int(input())\n",
    "if n%2==0:\n",
    "    print(n,\"is even\")\n",
    "else:\n",
    "    print(n,\"is not even\")"
   ]
  },
  {
   "cell_type": "markdown",
   "id": "419073e4",
   "metadata": {},
   "source": [
    "ARITHMETIC operations"
   ]
  },
  {
   "cell_type": "code",
   "execution_count": 12,
   "id": "888b3ef8",
   "metadata": {},
   "outputs": [
    {
     "name": "stdout",
     "output_type": "stream",
     "text": [
      "enter a number5\n",
      "enter a number6\n",
      "execute\n",
      "11\n",
      "-1\n",
      "30\n"
     ]
    }
   ],
   "source": [
    "a=int(input(\"enter a number\"))\n",
    "b=int(input(\"enter a number\"))\n",
    "if a=='+':\n",
    "    print(a+b)\n",
    "elif b=='-':\n",
    "    print(a-b)\n",
    "else:\n",
    "    print(\"execute\")\n",
    "print(a+b)    \n",
    "print(a-b)\n",
    "print(a*b)"
   ]
  },
  {
   "cell_type": "markdown",
   "id": "5eb3225b",
   "metadata": {},
   "source": [
    "loops in python\n"
   ]
  },
  {
   "cell_type": "markdown",
   "id": "32a3f269",
   "metadata": {},
   "source": [
    "*for loop\n",
    "* while loop"
   ]
  },
  {
   "cell_type": "markdown",
   "id": "4197d3e2",
   "metadata": {},
   "source": [
    "display 1 to 100 numbers"
   ]
  },
  {
   "cell_type": "code",
   "execution_count": 14,
   "id": "c6a212a0",
   "metadata": {},
   "outputs": [
    {
     "name": "stdout",
     "output_type": "stream",
     "text": [
      "1\t2\t3\t4\t5\t6\t7\t8\t9\t10\t11\t12\t13\t14\t15\t16\t17\t18\t19\t20\t21\t22\t23\t24\t25\t26\t27\t28\t29\t30\t31\t32\t33\t34\t35\t36\t37\t38\t39\t40\t41\t42\t43\t44\t45\t46\t47\t48\t49\t50\t51\t52\t53\t54\t55\t56\t57\t58\t59\t60\t61\t62\t63\t64\t65\t66\t67\t68\t69\t70\t71\t72\t73\t74\t75\t76\t77\t78\t79\t80\t81\t82\t83\t84\t85\t86\t87\t88\t89\t90\t91\t92\t93\t94\t95\t96\t97\t98\t99\t100\t"
     ]
    }
   ],
   "source": [
    "for i in range(1,101,1):\n",
    "    print(i,end='\\t')"
   ]
  },
  {
   "cell_type": "markdown",
   "id": "5dd26ad9",
   "metadata": {},
   "source": [
    "while loop"
   ]
  },
  {
   "cell_type": "code",
   "execution_count": 15,
   "id": "e418489e",
   "metadata": {},
   "outputs": [
    {
     "name": "stdout",
     "output_type": "stream",
     "text": [
      "1\t2\t3\t4\t5\t6\t7\t8\t9\t10\t11\t12\t13\t14\t15\t16\t17\t18\t19\t20\t21\t22\t23\t24\t25\t26\t27\t28\t29\t30\t31\t32\t33\t34\t35\t36\t37\t38\t39\t40\t41\t42\t43\t44\t45\t46\t47\t48\t49\t"
     ]
    }
   ],
   "source": [
    "i=1\n",
    "while i<50:\n",
    "    print(i,end='\\t')\n",
    "    i+=1"
   ]
  },
  {
   "cell_type": "markdown",
   "id": "013d177a",
   "metadata": {},
   "source": [
    "stings"
   ]
  },
  {
   "cell_type": "code",
   "execution_count": null,
   "id": "6b0619fa",
   "metadata": {},
   "outputs": [],
   "source": [
    "s1= 'hi'\n",
    "s2= 'hi hero is here now'\n",
    "s3='''i am\n",
    "hero and\n",
    "director\n",
    "producer'''"
   ]
  },
  {
   "cell_type": "code",
   "execution_count": 32,
   "id": "09527cd3",
   "metadata": {},
   "outputs": [
    {
     "ename": "NameError",
     "evalue": "name 's3' is not defined",
     "output_type": "error",
     "traceback": [
      "\u001b[1;31m---------------------------------------------------------------------------\u001b[0m",
      "\u001b[1;31mNameError\u001b[0m                                 Traceback (most recent call last)",
      "\u001b[1;32m<ipython-input-32-cb30b6ca491c>\u001b[0m in \u001b[0;36m<module>\u001b[1;34m\u001b[0m\n\u001b[1;32m----> 1\u001b[1;33m \u001b[1;32mfor\u001b[0m \u001b[0mchar\u001b[0m \u001b[1;32min\u001b[0m \u001b[0ms3\u001b[0m\u001b[1;33m:\u001b[0m\u001b[1;33m\u001b[0m\u001b[1;33m\u001b[0m\u001b[0m\n\u001b[0m\u001b[0;32m      2\u001b[0m     \u001b[0mprint\u001b[0m\u001b[1;33m(\u001b[0m\u001b[0mchar\u001b[0m\u001b[1;33m,\u001b[0m\u001b[0mend\u001b[0m\u001b[1;33m=\u001b[0m\u001b[1;34m'\\t'\u001b[0m\u001b[1;33m)\u001b[0m\u001b[1;33m\u001b[0m\u001b[1;33m\u001b[0m\u001b[0m\n",
      "\u001b[1;31mNameError\u001b[0m: name 's3' is not defined"
     ]
    }
   ],
   "source": [
    "for char in s3:\n",
    "    print(char,end='\\t')"
   ]
  },
  {
   "cell_type": "code",
   "execution_count": null,
   "id": "18df879c",
   "metadata": {},
   "outputs": [],
   "source": []
  },
  {
   "cell_type": "code",
   "execution_count": null,
   "id": "67813084",
   "metadata": {},
   "outputs": [],
   "source": []
  },
  {
   "cell_type": "code",
   "execution_count": null,
   "id": "184800f7",
   "metadata": {},
   "outputs": [],
   "source": []
  },
  {
   "cell_type": "code",
   "execution_count": null,
   "id": "eead2f73",
   "metadata": {},
   "outputs": [],
   "source": []
  },
  {
   "cell_type": "code",
   "execution_count": null,
   "id": "f0a9f0b5",
   "metadata": {},
   "outputs": [],
   "source": []
  },
  {
   "cell_type": "code",
   "execution_count": null,
   "id": "f1cf207c",
   "metadata": {},
   "outputs": [],
   "source": []
  },
  {
   "cell_type": "code",
   "execution_count": null,
   "id": "666ef2de",
   "metadata": {},
   "outputs": [],
   "source": []
  },
  {
   "cell_type": "code",
   "execution_count": null,
   "id": "17429fdb",
   "metadata": {},
   "outputs": [],
   "source": []
  },
  {
   "cell_type": "code",
   "execution_count": null,
   "id": "e6d947bc",
   "metadata": {},
   "outputs": [],
   "source": []
  },
  {
   "cell_type": "code",
   "execution_count": null,
   "id": "dc0b68fd",
   "metadata": {},
   "outputs": [],
   "source": []
  }
 ],
 "metadata": {
  "kernelspec": {
   "display_name": "Python 3",
   "language": "python",
   "name": "python3"
  },
  "language_info": {
   "codemirror_mode": {
    "name": "ipython",
    "version": 3
   },
   "file_extension": ".py",
   "mimetype": "text/x-python",
   "name": "python",
   "nbconvert_exporter": "python",
   "pygments_lexer": "ipython3",
   "version": "3.8.8"
  }
 },
 "nbformat": 4,
 "nbformat_minor": 5
}
